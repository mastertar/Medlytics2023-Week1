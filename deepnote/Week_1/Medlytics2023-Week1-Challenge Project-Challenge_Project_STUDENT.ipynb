{
  "cells": [
    {
      "cell_type": "markdown",
      "source": "# Week 1 Challenge Project\n### Lyle Lalunio\n---\nHypothyroidism, also called underactive thyroid or low thyroid, is a disorder of the endocrine system in which the thyroid gland does not produce enough thyroid hormone. It can cause a number of symptoms, such as poor ability to tolerate cold, a feeling of tiredness, constipation, depression, and weight gain. Occasionally there may be swelling of the front part of the neck due to goitre. Untreated hypothyroidism during pregnancy can lead to delays in growth and intellectual development in the baby or cretinism.\n\nWorldwide, too little iodine in the diet is the most common cause of hypothyroidism. In countries with enough iodine in the diet, the most common cause of hypothyroidism is the autoimmune condition Hashimoto's thyroiditis. Less common causes include: previous treatment with radioactive iodine, injury to the hypothalamus or the anterior pituitary gland, certain medications, a lack of a functioning thyroid at birth, or previous thyroid surgery. The diagnosis of hypothyroidism, when suspected, can be confirmed with blood tests measuring thyroid-stimulating hormone (TSH) and thyroxine levels.\n\nWorldwide about one billion people are estimated to be iodine deficient; however, it is unknown how often this results in hypothyroidism. In the United States, hypothyroidism occurs in 0.3–0.4% of people.\n\nAnd that is why we iodize salt.\n\n![alt text](https://www.mayoclinic.org/-/media/kcms/gbs/patient-consumer/images/2013/11/15/17/39/ds00181_-ds00344_-ds00353_-ds00491_-ds00492_-ds00567_-ds00660_-my00709_im01872_thyroid_gif.jpg)\n\n",
      "metadata": {
        "id": "XQDE8pPCpFRb",
        "colab_type": "text",
        "cell_id": "c1893a5aa5434a6b9167c5d04eb807bf",
        "deepnote_cell_type": "markdown"
      }
    },
    {
      "cell_type": "markdown",
      "source": "Background: Doctors all around the world need our help to predict whether a patient has hypothyroid disease. We have already overspent our budget to collect such complete data on about 30 attributes for 2800 patients--a good starting number, but a larger sample would certainly be preferred. Moving forward, however, we simply cannot afford to spend so much money on data collection. Therefore, we also need to determine which attributes are the most meaningful to the predictive models, and cut out the rest that don't contribute much. \n\nThe boss wants to see a **balanced** model that can predict with a **high sensitivity** and **high specificity** while using a ***low amount of features***. Collecting complete data such as this is very rare, very time-consuming, and often very expensive. By minimizing the number of features, it will optimize future data collection by deciding what needs to be collected, and what doesn't.",
      "metadata": {
        "id": "OFF1-BLiSLZ8",
        "colab_type": "text",
        "cell_id": "9349b9662549411d91e2cf69be995198",
        "deepnote_cell_type": "markdown"
      }
    },
    {
      "cell_type": "markdown",
      "source": "## Loading the data",
      "metadata": {
        "id": "HsZB_SGvp4mP",
        "colab_type": "text",
        "cell_id": "f06274ac380246c7b56789dc763ae53c",
        "deepnote_cell_type": "markdown"
      }
    },
    {
      "cell_type": "markdown",
      "source": "Let's read the data into a Pandas dataframe and look at the first 20 records.",
      "metadata": {
        "id": "DWrUz9OQ0uAU",
        "colab_type": "text",
        "cell_id": "ebee6415121148c88fec121949e62f47",
        "deepnote_cell_type": "markdown"
      }
    },
    {
      "cell_type": "code",
      "source": "import pandas as po\n### Your code here",
      "metadata": {
        "id": "s9AtXQPkzC8j",
        "colab": {
          "autoexec": {
            "startup": false,
            "wait_interval": 0
          }
        },
        "colab_type": "code",
        "source_hash": null,
        "execution_start": 1625754717639,
        "execution_millis": 5,
        "deepnote_to_be_reexecuted": false,
        "cell_id": "12d94f7655ca4f8096f2105de922b062",
        "deepnote_cell_type": "code"
      },
      "outputs": [],
      "execution_count": null
    },
    {
      "cell_type": "code",
      "source": "dataset.columns = ['Age', 'Sex', 'On Thyroxine', 'Query on Thyroxine', 'On Antithyroid Medication', 'Sick', 'Pregnant', 'Thyroid Surgery', 'I131 Treatment', 'Query Hypothyroid', 'Query Hyperthyroid', 'Lithium', 'Goiter', 'Tumor', 'Hypopituitary', 'Psych', 'TSH Measured', 'TSH', 'T3 Measured', 'T3', 'TT4 Measured', 'TT4', 'T4U Measured', 'T4U', 'FTI Measured', 'FTI', 'TBG Measured', 'TBG', 'Referral Source', 'Class']",
      "metadata": {
        "tags": [],
        "cell_id": "daa19a65a32144f2831d40b87e90d537",
        "deepnote_cell_type": "code"
      },
      "outputs": [],
      "execution_count": null
    },
    {
      "cell_type": "markdown",
      "source": "Great, looks like the data loaded in properly. Let's continue looking at some summary statistics on our data.",
      "metadata": {
        "id": "tYhtoqdR6Y3J",
        "colab_type": "text",
        "cell_id": "5283066e64df416592a7b63577d076b2",
        "deepnote_cell_type": "markdown"
      }
    },
    {
      "cell_type": "markdown",
      "source": "## Viewing summary statistics\nThe functions describe() and info() are your friends",
      "metadata": {
        "id": "sGKbG-eBqBjF",
        "colab_type": "text",
        "cell_id": "5dcd329d46bc4ba0a121fda6d4fe3c44",
        "deepnote_cell_type": "markdown"
      }
    },
    {
      "cell_type": "code",
      "source": "# output high-level column statistics\ndataset.describe()",
      "metadata": {
        "id": "rnp3nN9b6ZNw",
        "colab": {
          "autoexec": {
            "startup": false,
            "wait_interval": 0
          }
        },
        "colab_type": "code",
        "source_hash": null,
        "execution_start": 1625754719449,
        "execution_millis": 150,
        "deepnote_to_be_reexecuted": false,
        "cell_id": "fbf7b1388f58401ca79fd5f1748e67f2",
        "deepnote_cell_type": "code"
      },
      "outputs": [],
      "execution_count": null
    },
    {
      "cell_type": "code",
      "source": "# output information about the data including the index dtype and column dtypes, non-null values and memory usage\ndataset.info()",
      "metadata": {
        "id": "9QndSspU7lW4",
        "colab": {
          "autoexec": {
            "startup": false,
            "wait_interval": 0
          }
        },
        "colab_type": "code",
        "source_hash": null,
        "execution_start": 1625754719955,
        "execution_millis": 13,
        "deepnote_to_be_reexecuted": false,
        "cell_id": "8ede8a7d6ca1462d88591c7da38bfa28",
        "deepnote_cell_type": "code"
      },
      "outputs": [],
      "execution_count": null
    },
    {
      "cell_type": "markdown",
      "source": "Note the data types are all objects--even columns that are obviously numeric like Age. This is because there are \"?\" values for some of the cells, making pandas interpret these columns as non-null objects (instead of int, for example).",
      "metadata": {
        "id": "olpFokrp8AIH",
        "colab_type": "text",
        "cell_id": "8fb6249e1e1941fdb7a2220faf0d65fb",
        "deepnote_cell_type": "markdown"
      }
    },
    {
      "cell_type": "markdown",
      "source": "## Data cleaning",
      "metadata": {
        "id": "0emOppVyqQS9",
        "colab_type": "text",
        "cell_id": "8ed5b8e25eeb4842831ada33452e205b",
        "deepnote_cell_type": "markdown"
      }
    },
    {
      "cell_type": "markdown",
      "source": "To start, let's make all the numerical columns contain the correct type of values and change the data type of those columns to numeric. Let's also replace all those question marks with the median of the respective column.\n\nHint: To make it easier, first try converting all the \"?\" to NaN.",
      "metadata": {
        "id": "ZRQpnByEWrcx",
        "colab_type": "text",
        "cell_id": "9a937e3650034b6cb8c478391baf8a2b",
        "deepnote_cell_type": "markdown"
      }
    },
    {
      "cell_type": "code",
      "source": "import numpy as np\n\n### your code here",
      "metadata": {
        "id": "BlTsaK5n5Bg1",
        "colab": {
          "autoexec": {
            "startup": false,
            "wait_interval": 0
          }
        },
        "colab_type": "code",
        "cell_id": "8d75d8bdfc954dcc918390d6eaa941e8",
        "deepnote_cell_type": "code"
      },
      "outputs": [],
      "execution_count": null
    },
    {
      "cell_type": "markdown",
      "source": "Hmm, still looks like the TBG column is unfilled, implying it was empty to begin with. Let's get rid of this column, then (and make sure to get rid of it in your list of numeric columns, too!)",
      "metadata": {
        "id": "HZo7iKHUD3DG",
        "colab_type": "text",
        "cell_id": "ccb995870f3b4946a8bf2c915b69d9d2",
        "deepnote_cell_type": "markdown"
      }
    },
    {
      "cell_type": "code",
      "source": "### Your code here",
      "metadata": {
        "id": "yAe5FIFkD25f",
        "colab": {
          "autoexec": {
            "startup": false,
            "wait_interval": 0
          }
        },
        "colab_type": "code",
        "cell_id": "74ef22d8220b408097d229e4f061210a",
        "deepnote_cell_type": "code"
      },
      "outputs": [],
      "execution_count": null
    },
    {
      "cell_type": "markdown",
      "source": "All right, let's take a look now at the info of *just the numeric columns* in the dataset:",
      "metadata": {
        "id": "DTjWD_ddCHsA",
        "colab_type": "text",
        "cell_id": "915878e886544683a480ed9bb193a095",
        "deepnote_cell_type": "markdown"
      }
    },
    {
      "cell_type": "code",
      "source": "dataset[numeric_columns].info()",
      "metadata": {
        "id": "00OaxCAbzRvA",
        "colab": {
          "autoexec": {
            "startup": false,
            "wait_interval": 0
          }
        },
        "colab_type": "code",
        "cell_id": "abadc2cbcfba47029ce22879fa3dc559",
        "deepnote_cell_type": "code"
      },
      "outputs": [],
      "execution_count": null
    },
    {
      "cell_type": "markdown",
      "source": "Perfect, now let's fix that class feature. According to the note the data collectors included with this data, the \".|####\" refers to a patient number, and is not necessarily relevant for our purposes here.",
      "metadata": {
        "id": "XOzcRX-5YRvz",
        "colab_type": "text",
        "cell_id": "1cc421f721344a0685b1233712195bcd",
        "deepnote_cell_type": "markdown"
      }
    },
    {
      "cell_type": "code",
      "source": "### Your code here",
      "metadata": {
        "id": "QFmeyRcGYR7s",
        "colab": {
          "autoexec": {
            "startup": false,
            "wait_interval": 0
          }
        },
        "colab_type": "code",
        "cell_id": "aff41d40187e4393b8fdb71f59d48fed",
        "deepnote_cell_type": "code"
      },
      "outputs": [],
      "execution_count": null
    },
    {
      "cell_type": "markdown",
      "source": "Let's run the describe() function on just the \"class\" column.",
      "metadata": {
        "id": "KYOwWnpqhQvd",
        "colab_type": "text",
        "cell_id": "1ac6f87bd14140ee8b9a8650d82a3dc0",
        "deepnote_cell_type": "markdown"
      }
    },
    {
      "cell_type": "code",
      "source": "dataset['Class'].describe()",
      "metadata": {
        "id": "cq_v45R8hP5A",
        "colab": {
          "height": 105,
          "autoexec": {
            "startup": false,
            "wait_interval": 0
          },
          "base_uri": "https://localhost:8080/"
        },
        "outputId": "5db97e80-a424-49c9-d58f-a7126894d1c6",
        "colab_type": "code",
        "executionInfo": {
          "user": {
            "userId": "108954789805627648380",
            "photoUrl": "https://lh3.googleusercontent.com/a/default-user=s128",
            "displayName": "Lyle Lalunio"
          },
          "status": "ok",
          "elapsed": 272,
          "user_tz": 240,
          "timestamp": 1531117211963
        },
        "cell_id": "ee029aef43434b5aa60a7b447d87b460",
        "deepnote_cell_type": "code"
      },
      "outputs": [
        {
          "data": {
            "text/plain": "count         2800\nunique           4\ntop       negative\nfreq          2580\nName: class, dtype: object"
          },
          "execution_count": 10,
          "metadata": {
            "tags": []
          },
          "output_type": "execute_result"
        }
      ],
      "execution_count": null
    },
    {
      "cell_type": "markdown",
      "source": "It looks like there are actually 4 unique classification variables! Thank goodness we didn't assume it was binary.\n\nDisplay all the unique values in the class column.",
      "metadata": {
        "id": "m6S7Y6VXhYct",
        "colab_type": "text",
        "cell_id": "f39514bcf78143cc9367ef7f3caa7792",
        "deepnote_cell_type": "markdown"
      }
    },
    {
      "cell_type": "code",
      "source": "### Your code here",
      "metadata": {
        "id": "oH0fTzzvE-oF",
        "colab": {
          "autoexec": {
            "startup": false,
            "wait_interval": 0
          }
        },
        "colab_type": "code",
        "cell_id": "7fea4683e6384f68a0bad8e3ad6b2146",
        "deepnote_cell_type": "code"
      },
      "outputs": [],
      "execution_count": null
    },
    {
      "cell_type": "markdown",
      "source": "But let's make it binary for the sake of this example anyway. If you finish early later on, try the multiclass classifier with all 4 values!",
      "metadata": {
        "id": "aBrmRJHakpWm",
        "colab_type": "text",
        "cell_id": "cedeea9346914227884745e97a45c1e4",
        "deepnote_cell_type": "markdown"
      }
    },
    {
      "cell_type": "code",
      "source": "### Your code here",
      "metadata": {
        "id": "HwqVoUFTkoa0",
        "colab": {
          "autoexec": {
            "startup": false,
            "wait_interval": 0
          }
        },
        "colab_type": "code",
        "cell_id": "84aeaadbba964af5937746f9aafc1f39",
        "deepnote_cell_type": "code"
      },
      "outputs": [],
      "execution_count": null
    },
    {
      "cell_type": "markdown",
      "source": "Before we move on, let's not forget to run the describe() function on just  your categorical columns, too.\nCompare it to the describe() that your numeric columns produce.",
      "metadata": {
        "id": "jbgWOvekhluw",
        "colab_type": "text",
        "cell_id": "3efb5fd6368343488d95dd0a60ec9999",
        "deepnote_cell_type": "markdown"
      }
    },
    {
      "cell_type": "code",
      "source": "### Your code here",
      "metadata": {
        "id": "WHAZCbNAc5KT",
        "colab": {
          "autoexec": {
            "startup": false,
            "wait_interval": 0
          }
        },
        "colab_type": "code",
        "cell_id": "8963ecb96a2045b995bc2539409889c1",
        "deepnote_cell_type": "code"
      },
      "outputs": [],
      "execution_count": null
    },
    {
      "cell_type": "markdown",
      "source": "Great! Let's see if there's any other records we have to address. count() is a nice way to check if we have any other missing values.",
      "metadata": {
        "id": "Jo9aRzltCOK8",
        "colab_type": "text",
        "cell_id": "e6970c376c1c4a6b87e2bd27c85ae4f1",
        "deepnote_cell_type": "markdown"
      }
    },
    {
      "cell_type": "code",
      "source": "dataset.count()",
      "metadata": {
        "id": "Q1yGe8nrzozW",
        "colab": {
          "autoexec": {
            "startup": false,
            "wait_interval": 0
          }
        },
        "colab_type": "code",
        "cell_id": "6876d36f77c74cc3ac8b92538d5cdd9b",
        "deepnote_cell_type": "code"
      },
      "outputs": [],
      "execution_count": null
    },
    {
      "cell_type": "markdown",
      "source": "We could replace the missing values in proportion to the current number of males and females over the total, but that is making an assumption we don't have to make. For now, let's simply cut the records of all these sexless people out of our data.",
      "metadata": {
        "id": "-Y9DDq8qCeL8",
        "colab_type": "text",
        "cell_id": "2765297ff5f949ad83b98cdf47dc7030",
        "deepnote_cell_type": "markdown"
      }
    },
    {
      "cell_type": "code",
      "source": "### Your code here",
      "metadata": {
        "id": "1E6qS7F5zyt3",
        "colab": {
          "autoexec": {
            "startup": false,
            "wait_interval": 0
          }
        },
        "colab_type": "code",
        "cell_id": "1e975e9078184e3c8d34080df05b327e",
        "deepnote_cell_type": "code"
      },
      "outputs": [],
      "execution_count": null
    },
    {
      "cell_type": "markdown",
      "source": "Nice! Now we have a pretty clean dataset to work with. Let's now do some further data analysis and visualization to better understand what we're working with.",
      "metadata": {
        "id": "eTcS25EHF4vL",
        "colab_type": "text",
        "cell_id": "83fd48ceccb5476eaca93c0018bdcafe",
        "deepnote_cell_type": "markdown"
      }
    },
    {
      "cell_type": "markdown",
      "source": "## Data analysis and visualization",
      "metadata": {
        "id": "SsiaTCjQql3S",
        "colab_type": "text",
        "cell_id": "8d27cf1a403942d2808427fb63718ebc",
        "deepnote_cell_type": "markdown"
      }
    },
    {
      "cell_type": "markdown",
      "source": "Check the correlation of the dataset",
      "metadata": {
        "id": "huFOG2Mw3OqJ",
        "colab_type": "text",
        "cell_id": "bf8d99ef911c4d2b8706a4e397effc82",
        "deepnote_cell_type": "markdown"
      }
    },
    {
      "cell_type": "code",
      "source": "### Your code here",
      "metadata": {
        "id": "fXrXSMW_GSeT",
        "colab": {
          "autoexec": {
            "startup": false,
            "wait_interval": 0
          }
        },
        "colab_type": "code",
        "cell_id": "28fa9e70572948beb096832ffb51d8cb",
        "deepnote_cell_type": "code"
      },
      "outputs": [],
      "execution_count": null
    },
    {
      "cell_type": "markdown",
      "source": "Convert the class feature to numeric so we can also see the correlations it has with the numeric features, and check the correlation again.",
      "metadata": {
        "id": "scfm6AEv3YIJ",
        "colab_type": "text",
        "cell_id": "564c2cc9c025459fbc4648e6cd11032f",
        "deepnote_cell_type": "markdown"
      }
    },
    {
      "cell_type": "code",
      "source": "import pandas as po\n\n### Your code here",
      "metadata": {
        "id": "2bGleemH3o3b",
        "colab": {
          "autoexec": {
            "startup": false,
            "wait_interval": 0
          }
        },
        "colab_type": "code",
        "cell_id": "060b40723a52423092d2da731f3db372",
        "deepnote_cell_type": "code"
      },
      "outputs": [],
      "execution_count": null
    },
    {
      "cell_type": "markdown",
      "source": "Let's do some further visual analysis using a new module called seaborn. Explore its incredible versatility and diversity with data visualization here: https://seaborn.pydata.org/",
      "metadata": {
        "id": "tp4yO5kUGd3L",
        "colab_type": "text",
        "cell_id": "92c6d4f089484f05823b9e226f0f1329",
        "deepnote_cell_type": "markdown"
      }
    },
    {
      "cell_type": "code",
      "source": "import seaborn as sns\nsns.pairplot(copy)",
      "metadata": {
        "id": "JzkaBa64aXzb",
        "colab": {
          "autoexec": {
            "startup": false,
            "wait_interval": 0
          }
        },
        "colab_type": "code",
        "cell_id": "8835371201f74627b710f82569f14d3a",
        "deepnote_cell_type": "code"
      },
      "outputs": [],
      "execution_count": null
    },
    {
      "cell_type": "markdown",
      "source": "OK! I think we're ready to create and select some supervised learning models. To get the ball rolling, select Age and Sex as our explanatory features (and class as the target feature, obviously).",
      "metadata": {
        "id": "mvW7_0aWFSEm",
        "colab_type": "text",
        "cell_id": "dff5d6cdf4954a2098f831c8469db968",
        "deepnote_cell_type": "markdown"
      }
    },
    {
      "cell_type": "markdown",
      "source": "## Model training and selection",
      "metadata": {
        "id": "JXMQ9UaKqyha",
        "colab_type": "text",
        "cell_id": "57415ee69e474b5b95fd104c57da10a5",
        "deepnote_cell_type": "markdown"
      }
    },
    {
      "cell_type": "markdown",
      "source": "Let's dummy the categorical variables (but not the class value!) and view the column names to select some for our model.",
      "metadata": {
        "id": "Mon3ih88tW8y",
        "colab_type": "text",
        "cell_id": "a8c3cc6233d4486d884aceee11dc9759",
        "deepnote_cell_type": "markdown"
      }
    },
    {
      "cell_type": "code",
      "source": "### Your code here",
      "metadata": {
        "id": "1NqvPYi6itkH",
        "colab": {
          "autoexec": {
            "startup": false,
            "wait_interval": 0
          }
        },
        "colab_type": "code",
        "cell_id": "ef03133f16f84ca69c9ea6d1ca9ed717",
        "deepnote_cell_type": "code"
      },
      "outputs": [],
      "execution_count": null
    },
    {
      "cell_type": "markdown",
      "source": "All right, let's now split our data into training and testing in an 80-20 split. For consistency, let's all use a seed of 8675309.",
      "metadata": {
        "id": "4yEeqjv19hCX",
        "colab_type": "text",
        "cell_id": "6d15f6739a644549ab2bff3da81ac8fe",
        "deepnote_cell_type": "markdown"
      }
    },
    {
      "cell_type": "code",
      "source": "from sklearn.model_selection import train_test_split\n\n## Your code here",
      "metadata": {
        "id": "GQqlCTGntXCX",
        "colab": {
          "height": 36,
          "autoexec": {
            "startup": false,
            "wait_interval": 0
          },
          "base_uri": "https://localhost:8080/"
        },
        "outputId": "17fb180a-5a12-4890-8de2-2b2d73bfe9df",
        "colab_type": "code",
        "executionInfo": {
          "user": {
            "userId": "108954789805627648380",
            "photoUrl": "https://lh3.googleusercontent.com/a/default-user=s128",
            "displayName": "Lyle Lalunio"
          },
          "status": "ok",
          "elapsed": 452,
          "user_tz": 240,
          "timestamp": 1531117461829
        },
        "cell_id": "e892efe140cb4ce49634e2bb7db35b18",
        "deepnote_cell_type": "code"
      },
      "outputs": [],
      "execution_count": null
    },
    {
      "cell_type": "markdown",
      "source": "For reusability, let's make a logistic regression function that will take our training and testing data as arguments. Inside the function, build a model on your training data, fit it with your training class data, and return a list of your predictions.",
      "metadata": {
        "id": "6KGUCXBE-OFy",
        "colab_type": "text",
        "cell_id": "48c6bbccbd5c42c38ab4db57ed7c8beb",
        "deepnote_cell_type": "markdown"
      }
    },
    {
      "cell_type": "code",
      "source": "from sklearn import metrics\nfrom sklearn.linear_model import LogisticRegression\n\ndef log_reg(train_X,train_Y,test_X,test_Y):\n\n  ### Your code here",
      "metadata": {
        "id": "DawvoHd7lnG9",
        "colab": {
          "autoexec": {
            "startup": false,
            "wait_interval": 0
          }
        },
        "colab_type": "code",
        "cell_id": "9bca710edb374c73b6c760436714eaaa",
        "deepnote_cell_type": "code"
      },
      "outputs": [],
      "execution_count": null
    },
    {
      "cell_type": "markdown",
      "source": "Fantastic, we have just built a logistic regression model! Let's go see how well it performs.",
      "metadata": {
        "id": "JR8xu_VVsygN",
        "colab_type": "text",
        "cell_id": "617f94aea5d24329bcb94b2b7d53cd96",
        "deepnote_cell_type": "markdown"
      }
    },
    {
      "cell_type": "markdown",
      "source": "### Model evaluation",
      "metadata": {
        "id": "gAz096POwSRJ",
        "colab_type": "text",
        "cell_id": "68f752ad09fa4d8eb117987867506d6e",
        "deepnote_cell_type": "markdown"
      }
    },
    {
      "cell_type": "markdown",
      "source": "To start, let's establish the baseline performance. This is important because it provides a starting point of comparison for later evaluation methods, like accuracy.\n\nA good baseline model to use is the Zero Rule algorithm. In classification problems, it simply predicts the class value with the greatest number of instances every time.",
      "metadata": {
        "id": "570duVNhrTZh",
        "colab_type": "text",
        "cell_id": "f46be6fbb73e4338a35637dea2daf18f",
        "deepnote_cell_type": "markdown"
      }
    },
    {
      "cell_type": "code",
      "source": "def zero_rule_algorithm_classification(train,test):\n  ## Your code here",
      "metadata": {
        "id": "fwvqucK_Yg-2",
        "colab": {
          "autoexec": {
            "startup": false,
            "wait_interval": 0
          }
        },
        "colab_type": "code",
        "cell_id": "af3ac4fa086046428e227318524b64e6",
        "deepnote_cell_type": "code"
      },
      "outputs": [],
      "execution_count": null
    },
    {
      "cell_type": "markdown",
      "source": "Get your baseline performance by calculating the accuracy of your Zero Rule algorithm.",
      "metadata": {
        "id": "I_nExUgUYll5",
        "colab_type": "text",
        "cell_id": "bf27a7f5919245a3b7bd1942085a9ff9",
        "deepnote_cell_type": "markdown"
      }
    },
    {
      "cell_type": "code",
      "source": "## Your code here",
      "metadata": {
        "id": "zs0M8OdtYidB",
        "colab": {
          "autoexec": {
            "startup": false,
            "wait_interval": 0
          }
        },
        "colab_type": "code",
        "cell_id": "af77d4e1bcf3431db166c475604a2f16",
        "deepnote_cell_type": "code"
      },
      "outputs": [],
      "execution_count": null
    },
    {
      "cell_type": "markdown",
      "source": "So maybe accuracy isn't the best performance measure for this dataset. As you've seen already, even when the models predict \"negative\" for all the records, we could already achieve a ~92% accuracy. However, that also implies we incorrectly predicted 100% of the positive cases, which in the context of this problem, is fatal.\n\nThankfully, it isn't the only way to evaluate your model. Let's take a look at a confusion matrix.\n\n![alt text](https://i.imgur.com/uipmEwt.png)",
      "metadata": {
        "id": "WksirqfT5Ecw",
        "colab_type": "text",
        "cell_id": "c3f27fc903a549ad962e614874e83361",
        "deepnote_cell_type": "markdown"
      }
    },
    {
      "cell_type": "markdown",
      "source": "Create a confusion matrix using the logistic regression function you built earlier.",
      "metadata": {
        "id": "-vzqX_SKaBzK",
        "colab_type": "text",
        "cell_id": "22ee80c1a91b4d08b329aa320d8343fa",
        "deepnote_cell_type": "markdown"
      }
    },
    {
      "cell_type": "code",
      "source": "from sklearn.metrics import confusion_matrix\n\n### Your code here",
      "metadata": {
        "id": "DSS7JdYjaBWh",
        "colab": {
          "autoexec": {
            "startup": false,
            "wait_interval": 0
          }
        },
        "colab_type": "code",
        "cell_id": "d6bbde0b25b140bca5851060809df472",
        "deepnote_cell_type": "code"
      },
      "outputs": [],
      "execution_count": null
    },
    {
      "cell_type": "markdown",
      "source": "\nYet another appropriate metric is the Area Under the Receiver Operator Curve. Specifically, the diagnostic performance of a test, or the accuracy of a test to discriminate diseased cases from normal cases is evaluated using Receiver Operating Characteristic (ROC) curve analysis.\n\nWhen you consider the results of a particular test in two populations, one population with a disease, the other population without the disease, you will rarely observe a perfect separation between the two groups. Hence, the overlapping areas in the diagram below (FN, FP).\n\nIn a Receiver Operating Characteristic (ROC) curve the true positive rate (Sensitivity) is plotted in function of the false positive rate (100-Specificity) for different cut-off points. Each point on the ROC curve represents a sensitivity/specificity pair corresponding to a particular decision threshold. A test with perfect discrimination (no overlap in the two distributions) has a ROC curve that passes through the upper left corner (100% sensitivity, 100% specificity). Therefore the closer the ROC curve is to the upper left corner, the higher the overall accuracy of the test.\n\n![alt text](https://www.medcalc.org/manual/_help/images/roc_intro1.png)\n\n\n\n",
      "metadata": {
        "id": "z0JPOHmQn8N6",
        "colab_type": "text",
        "cell_id": "941b81d17103464bb9d35b791d313849",
        "deepnote_cell_type": "markdown"
      }
    },
    {
      "cell_type": "markdown",
      "source": "Now, to graph the AUROC curve, we will need to predict probabilities of choosing a specific class value rather than the class value itself. Make a new logistic regression model that does so.",
      "metadata": {
        "id": "cvTWQTcycBEp",
        "colab_type": "text",
        "cell_id": "de34ef82fa2741fdac1371ed01dddb90",
        "deepnote_cell_type": "markdown"
      }
    },
    {
      "cell_type": "code",
      "source": "from sklearn.linear_model import LogisticRegression\n\n### Your code here",
      "metadata": {
        "id": "Ur0s4m3kg3H-",
        "colab": {
          "autoexec": {
            "startup": false,
            "wait_interval": 0
          }
        },
        "colab_type": "code",
        "cell_id": "5aeed501013840da8ac869e426331dd9",
        "deepnote_cell_type": "code"
      },
      "outputs": [],
      "execution_count": null
    },
    {
      "cell_type": "markdown",
      "source": "Now calculate the area under the receiver operator curve with your predictions.",
      "metadata": {
        "id": "Xm0yv6wmDnQz",
        "colab_type": "text",
        "cell_id": "942ce6bf1d4b42f381614c7d8cb10a91",
        "deepnote_cell_type": "markdown"
      }
    },
    {
      "cell_type": "code",
      "source": "from sklearn import metrics\n\n### Your code here",
      "metadata": {
        "id": "0xRxhlqbcc-I",
        "colab": {
          "autoexec": {
            "startup": false,
            "wait_interval": 0
          }
        },
        "colab_type": "code",
        "cell_id": "99248df259e64ca48a0c26defdeb1492",
        "deepnote_cell_type": "code"
      },
      "outputs": [],
      "execution_count": null
    },
    {
      "cell_type": "markdown",
      "source": "Now graph the ROC curve using matplotlib, fully labeled.",
      "metadata": {
        "id": "w3hnQOGUczOn",
        "colab_type": "text",
        "cell_id": "9f193645e5164248b11d42f1962858af",
        "deepnote_cell_type": "markdown"
      }
    },
    {
      "cell_type": "code",
      "source": "import matplotlib.pyplot as plt\n\n### Your code here",
      "metadata": {
        "id": "JA-ieOGua55H",
        "colab": {
          "autoexec": {
            "startup": false,
            "wait_interval": 0
          }
        },
        "colab_type": "code",
        "cell_id": "e21e34c1c81f46c99517c8d58569ab2c",
        "deepnote_cell_type": "code"
      },
      "outputs": [],
      "execution_count": null
    },
    {
      "cell_type": "markdown",
      "source": "In conclusion, it looks like this model performed pretty bad. It's probably best to try out different columns or perhaps use a different model before we submit our model for scoring.",
      "metadata": {
        "id": "5D4BtDZV6fxV",
        "colab_type": "text",
        "cell_id": "b99124ee518a433faab3faf6a4be9986",
        "deepnote_cell_type": "markdown"
      }
    },
    {
      "cell_type": "markdown",
      "source": "# Submitting your Model",
      "metadata": {
        "id": "5JW3myd8LHJy",
        "colab_type": "text",
        "cell_id": "3124475e19f841af888421d1d23db7e5",
        "deepnote_cell_type": "markdown"
      }
    },
    {
      "cell_type": "markdown",
      "source": "Once you believe to have found the best classifier, run your classifier on the test data and make a pickle file containing of your predictions contained a pandas dataframe.\n\nThis pandas dataframe will contain three columns for your binary classifier (or 5 columns for the multiclass classifier): the first column should be your model's \"best guess\" for each patient (either 0 or 1, negative or positive) and the last two columns should be the probability the patient would be classified as either a 0 or 1.\n\n(see below for reference)",
      "metadata": {
        "id": "Wuexs1daLNBY",
        "colab_type": "text",
        "cell_id": "63d1be7717384a3ab504082577d9e56f",
        "deepnote_cell_type": "markdown"
      }
    },
    {
      "cell_type": "code",
      "source": "# after running this cell, you should see the pickle file pop up in the file explorer to the left\n# use the three dots next to the filename to download the file\n# after downloading the pickle file, email it to medlytics23-staff@mit.edu\nimport pickle\npredictions = po.DataFrame({\"guesses\":[0, 1, 0, 1],\"prob_neg\":[.75, .15, .63, .20],\"prob_pos\":[.25, .85, .27, .80]})\nprediction_pickle_path = 'prediction_pickle.pkl'\n\n# Create an variable to pickle and open it in write mode\nprediction_pickle = open(prediction_pickle_path, 'wb')\npickle.dump(predictions, prediction_pickle)\n\nprediction_pickle.close()",
      "metadata": {
        "id": "GkZOEgg3m3g1",
        "colab": {
          "height": 16,
          "autoexec": {
            "startup": false,
            "wait_interval": 0
          },
          "base_uri": "https://localhost:8080/"
        },
        "outputId": "6e113681-1554-4d5d-ee1a-14fce422cdfe",
        "colab_type": "code",
        "source_hash": null,
        "executionInfo": {
          "user": {
            "userId": "108954789805627648380",
            "photoUrl": "https://lh3.googleusercontent.com/a/default-user=s128",
            "displayName": "Lyle Lalunio"
          },
          "status": "ok",
          "elapsed": 735,
          "user_tz": 240,
          "timestamp": 1531300930305
        },
        "execution_start": 1625510171318,
        "execution_millis": 615,
        "deepnote_to_be_reexecuted": false,
        "cell_id": "aba062b398614d92be6e74da26a7466e",
        "deepnote_cell_type": "code"
      },
      "outputs": [],
      "execution_count": null
    },
    {
      "cell_type": "code",
      "source": "prediction_unpickle = open(prediction_pickle_path, 'rb')\n \n# load the unpickle object into a variable\npredictions = pickle.load(prediction_unpickle)\n \nprint(predictions)",
      "metadata": {
        "id": "Dj6_AB6LnjrW",
        "colab": {
          "height": 105,
          "autoexec": {
            "startup": false,
            "wait_interval": 0
          },
          "base_uri": "https://localhost:8080/"
        },
        "outputId": "399f0da3-727f-4e2f-9213-385243a95553",
        "colab_type": "code",
        "executionInfo": {
          "user": {
            "userId": "108954789805627648380",
            "photoUrl": "https://lh3.googleusercontent.com/a/default-user=s128",
            "displayName": "Lyle Lalunio"
          },
          "status": "ok",
          "elapsed": 263,
          "user_tz": 240,
          "timestamp": 1531301033636
        },
        "cell_id": "8df47089959e4432a3a8f03fae9d72d4",
        "deepnote_cell_type": "code"
      },
      "outputs": [
        {
          "name": "stdout",
          "output_type": "stream",
          "text": "   guesses  prob_neg  prob_pos\n0        0      0.75      0.25\n1        1      0.15      0.85\n2        0      0.63      0.27\n3        1      0.20      0.80\n"
        }
      ],
      "execution_count": null
    },
    {
      "cell_type": "markdown",
      "source": "# Scoring your Model",
      "metadata": {
        "id": "GW27RtFNttQA",
        "colab_type": "text",
        "cell_id": "4ff40b144e514d19936188708210b3e3",
        "deepnote_cell_type": "markdown"
      }
    },
    {
      "cell_type": "markdown",
      "source": "\n**Area Under ROC Curve**: A receiver operating characteristic (ROC) curve plots the true positive rate (y) against the false positive rate (x) at many decision threshold settings (output < threshold = 0, output > threshold = 1). The area under this curve represents the probability that a classifier will rank a randomly chosen positive instance higher than a randomly chosen negative one.\n\n**Confusion Matrix**: You will receive a certain number of points for each correct classification and a certain point penalty for each incorrect classification. The points are weighted, and are designed to equate to 0 in a Zero Rule baseline model. This point scheme is designed to punish you heavily for predicting false positives (FP) and false negatives (FN)--FN cases especially. In doing so, we hope you see the importance of clinical considerations and treat your models from a more human perspective, rather than detached from it.\n\n**Real World Cost**: Similar to the confusion matrix, we want you to keep in mind the other aspects of healthcare analytics--in this case, economic feasibility. In essence, we want you to minimize the amount of time and money spent on data collection by reducing the number of features collected. Each record certainly required a lot of time and money from several individuals and businesses to reliably create, and we hope you gain a better understanding of conducting a useful cost-benefit analysis with this scoring method. The full details of the weighted features can be found in the GitHub.",
      "metadata": {
        "id": "iJdiisMerewv",
        "colab_type": "text",
        "cell_id": "d509759d716a4ba2991598a8ff99e718",
        "deepnote_cell_type": "markdown"
      }
    },
    {
      "cell_type": "markdown",
      "source": "# Moving to the Next Level",
      "metadata": {
        "id": "w66lpbB6Qv_M",
        "colab_type": "text",
        "cell_id": "414837c07358415ead98a074041d2f30",
        "deepnote_cell_type": "markdown"
      }
    },
    {
      "cell_type": "markdown",
      "source": "For those that finish early, remember how I converted the class values into simply \"negative\" and \"positive\"? Now try tackling the multiclass classifier (predicting the different types of positive hypothyroid cases instead of simply negative or positive)! \n\nThe same rules apply!",
      "metadata": {
        "id": "X-HZ12lht_so",
        "colab_type": "text",
        "cell_id": "4e401469ed5c404988f99d7daeff28f5",
        "deepnote_cell_type": "markdown"
      }
    },
    {
      "cell_type": "markdown",
      "source": "<a style='text-decoration:none;line-height:16px;display:flex;color:#5B5B62;padding:10px;justify-content:end;' href='https://deepnote.com?utm_source=created-in-deepnote-cell&projectId=8fbdb743-532f-4f17-9855-e45d3de32274' target=\"_blank\">\n<img alt='Created in deepnote.com' style='display:inline;max-height:16px;margin:0px;margin-right:7.5px;' src='data:image/svg+xml;base64,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' > </img>\nCreated in <span style='font-weight:600;margin-left:4px;'>Deepnote</span></a>",
      "metadata": {
        "created_in_deepnote_cell": true,
        "deepnote_cell_type": "markdown"
      }
    }
  ],
  "nbformat": 4,
  "nbformat_minor": 0,
  "metadata": {
    "colab": {
      "name": "Challenge_Project_STUDENT.ipynb",
      "views": {},
      "version": "0.3.2",
      "provenance": [],
      "default_view": {},
      "collapsed_sections": []
    },
    "deepnote": {},
    "kernelspec": {
      "name": "python3",
      "language": "python",
      "display_name": "Python 3"
    },
    "language_info": {
      "name": "python",
      "version": "3.7.3",
      "mimetype": "text/x-python",
      "file_extension": ".py",
      "pygments_lexer": "ipython3",
      "codemirror_mode": {
        "name": "ipython",
        "version": 3
      },
      "nbconvert_exporter": "python"
    },
    "deepnote_notebook_id": "9e82c42ab54c4b6dba6d03b5e81bcd6b",
    "deepnote_execution_queue": []
  }
}