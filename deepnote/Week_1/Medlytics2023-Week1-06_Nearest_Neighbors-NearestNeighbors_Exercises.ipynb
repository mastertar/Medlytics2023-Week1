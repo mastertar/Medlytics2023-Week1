{
  "cells": [
    {
      "cell_type": "markdown",
      "source": "# Nearest Neighbors Exercises",
      "metadata": {
        "id": "3hHvV20eD58o",
        "colab_type": "text",
        "cell_id": "c38d3d61d21f40e69431c26a436b0c1c",
        "deepnote_cell_type": "markdown"
      }
    },
    {
      "cell_type": "code",
      "source": "import numpy as np\nimport pandas as po\nimport matplotlib.pyplot as plt\n\nfrom sklearn.model_selection import train_test_split\nfrom sklearn.neighbors import KNeighborsClassifier\nfrom sklearn.metrics import accuracy_score",
      "metadata": {
        "id": "z1h_AAj_D4kX",
        "colab": {},
        "colab_type": "code",
        "source_hash": "ab7040a7",
        "execution_start": 1625523190532,
        "execution_millis": 0,
        "deepnote_to_be_reexecuted": false,
        "cell_id": "30fc396f70f443cc83d710b85e8ee987",
        "deepnote_cell_type": "code"
      },
      "outputs": [],
      "execution_count": 4
    },
    {
      "cell_type": "markdown",
      "source": "## Problem 1\n\nConsider the following simple data-set:\n\n<img src=\"https://github.com/BeaverWorksMedlytics2020/Data_Public/raw/master/Images/Week1/knn_notebook_example_table.png\" alt=\"Example Table\" width=\"600\">\n\nNow consider the Sample:\n    $$X= 4, Y = 4, Z = 2$$",
      "metadata": {
        "id": "87tmgzNMb9tV",
        "colab_type": "text",
        "cell_id": "16fb9f128e6449c6822d0c33bcfbaf9a",
        "deepnote_cell_type": "markdown"
      }
    },
    {
      "cell_type": "markdown",
      "source": "Using kNN, what is the class for this sample for $k = 1$ and $k = 3?$ Use the Eucledian metric.\n\n(YOUR ANSWER HERE)",
      "metadata": {
        "id": "gqjait37Qws0",
        "colab_type": "text",
        "cell_id": "aeefe772f3c94c89bd03d46839fb11ac",
        "deepnote_cell_type": "markdown"
      }
    },
    {
      "cell_type": "markdown",
      "source": "## Problem 2\nEarlier in the tutorial we were told that kNN depends on several factors, one of them being $k$. Consider the following datasets below, find the optimal value of $k$ that gives the highest accuracy. Visualize your data! Can you come up with some rule for getting a good idea of what $k$ is? \n\nHINT: look for a pattern/bound! Answer should be in terms of the size of the dataset $n$. ",
      "metadata": {
        "id": "MtE0uiKuTWsI",
        "colab_type": "text",
        "cell_id": "c6d6df1b619a4857a98fe47406b4b9c4",
        "deepnote_cell_type": "markdown"
      }
    },
    {
      "cell_type": "code",
      "source": "# Solve this problem for each of these datasets\nfrom sklearn.datasets import load_iris \nfrom sklearn.datasets import load_breast_cancer\nfrom sklearn.datasets import load_wine \n\n# Load those datasets into some easily accessible variables\n# The datasets are already normalized, so that saves us some steps!\niris = load_iris()                    #iris dataset: size = 150\nbreast_cancer = load_breast_cancer()  #diabetes dataset: size = 569\nwine = load_wine()                    #wine dataset: size 178\n\n# This function will perfom KNN classification for a specified k\ndef split_train_test_dataset(dataset, k, test_size=0.2):\n    \"\"\"Loads and performs KNN classification on the provided dataset\"\"\"\n    # Grab and split the dataset\n    X_train, X_val, y_train, y_val = train_test_split(\n        dataset.data, dataset.target, test_size=test_size, random_state=0)\n\n    # Build a KNN classifier, fit it and test its predictions\n    knn = KNeighborsClassifier(n_neighbors=k)\n    knn.fit(X_train, y_train)\n    print(\"Validation Accuracy is {:5.1%}\".format(\n        accuracy_score(y_val, knn.predict(X_val))))\n",
      "metadata": {
        "id": "aapncOgUo_5r",
        "colab": {},
        "colab_type": "code",
        "source_hash": "4a5b7a34",
        "execution_start": 1625523193537,
        "execution_millis": 29,
        "deepnote_to_be_reexecuted": false,
        "cell_id": "d24ad338e3794ba1a858de7d37715237",
        "deepnote_cell_type": "code"
      },
      "outputs": [],
      "execution_count": 5
    },
    {
      "cell_type": "code",
      "source": "# YOUR CODE HERE",
      "metadata": {
        "id": "lQk-b90Kgz-S",
        "colab": {},
        "colab_type": "code",
        "cell_id": "d35e25d7cf3442ef930dc5df26b4a5ae",
        "deepnote_cell_type": "code"
      },
      "outputs": [],
      "execution_count": null
    },
    {
      "cell_type": "markdown",
      "source": "Write a single mathematical expression describing the relationship you found between $n$ (the size of the dataset) and $k$ (the number of datapoints used to classify each validation datum).",
      "metadata": {
        "id": "n1_EbFlqzjAT",
        "colab_type": "text",
        "cell_id": "5561a5daeb6043369faca4555c2dc70c",
        "deepnote_cell_type": "markdown"
      }
    },
    {
      "cell_type": "markdown",
      "source": "(YOUR ANSWER HERE)",
      "metadata": {
        "id": "PbbrX6rGq6CV",
        "colab_type": "text",
        "cell_id": "6f110fc0af1143189ca840799c406a7a",
        "deepnote_cell_type": "markdown"
      }
    },
    {
      "cell_type": "markdown",
      "source": "## Problem 3\nNow, we will **be writing our k-NNA**. Recall that we said a kNN is comprised of a predictions and using those predictions to classify the data. Here we will try to mimic sklearn's kNN methods. We will be using the Pima diabetes dataset. ",
      "metadata": {
        "id": "-vDZy0F3eyeH",
        "colab_type": "text",
        "cell_id": "600408f3d03645f88190edeb1fb6cce5",
        "deepnote_cell_type": "markdown"
      }
    },
    {
      "cell_type": "markdown",
      "source": "### Loading and splitting data",
      "metadata": {
        "id": "8YFfjG9G3lVO",
        "colab_type": "text",
        "cell_id": "05628b0f1a6b4a178089c7aba703c70e",
        "deepnote_cell_type": "markdown"
      }
    },
    {
      "cell_type": "code",
      "source": "url = \"https://github.com/BeaverWorksMedlytics2020/Data_Public/raw/master/NotebookExampleData/Week1/diabetes.csv\"\nnames = ['preg', 'plas', 'pres', 'skin', 'test', 'mass', 'pedi', 'age', 'class']\ndata = po.read_csv(url, names=names)\n\n# Dropping NaN rows\ninvalid = ['plas', 'pres', 'skin', 'test', 'mass']\n\nfor i in invalid:\n    data[i].replace(to_replace=0, value=np.nan, inplace=True)\n    \ndata = data.dropna(axis=0).reset_index(drop=True)",
      "metadata": {
        "id": "zbs8WICFgITd",
        "colab": {},
        "colab_type": "code",
        "source_hash": "ac1b2bb9",
        "execution_start": 1625523195944,
        "execution_millis": 165,
        "deepnote_to_be_reexecuted": false,
        "cell_id": "b5021ae978e64aaca419eefcc55b0d22",
        "deepnote_cell_type": "code"
      },
      "outputs": [],
      "execution_count": 6
    },
    {
      "cell_type": "markdown",
      "source": "Now, let's clearly define which columns will act as explanatory variables, and which column will be the target value, and split the dataset between your training data and testing data. Let's try an 80-20 split and use sklearn's [train_test_split](http://scikit-learn.org/stable/modules/generated/sklearn.model_selection.train_test_split.html) method (set random_state = 0 so we get the same output each time).",
      "metadata": {
        "id": "aSUwHL6-4P2F",
        "colab_type": "text",
        "cell_id": "8aa5d521ccc3409d9fa67ee0f412bbbb",
        "deepnote_cell_type": "markdown"
      }
    },
    {
      "cell_type": "code",
      "source": "# Columns we will use to make predictions with (features!) feel free to play around with these\nX_cols = ['preg', 'plas', 'pres', 'skin', 'test', 'mass', 'pedi', 'age']\n\n# Column that we want to predict (the labels)\ny_col = 'class'\n\n# 80-20 train-test split of datset\ntest_size = 0.2\nX_train, X_test, y_train, y_test = train_test_split(data[X_cols], data[y_col], test_size=test_size, random_state=0)\n\n# Further split X and y of training into training and validation sets\nX_train, X_val, y_train, y_val = train_test_split(X_train, y_train, test_size=test_size, random_state=0)\n\nprint('There are {} training samples with {} features and {} associated classification labels'.format(*X_train.shape, *y_train.shape))\nprint('There are {} validation samples with {} features and {} associated classification labels'.format(*X_val.shape, *y_val.shape))\nprint('There are {} test samples with {} features and {} associated classification labels'.format(*X_test.shape, *y_test.shape))",
      "metadata": {
        "id": "9MXZjxRcgy78",
        "colab": {
          "height": 68,
          "base_uri": "https://localhost:8080/"
        },
        "outputId": "91bb35f5-9c29-4c6b-dbba-7a0644a3e2ca",
        "colab_type": "code",
        "source_hash": "d98a6cd6",
        "execution_start": 1625523198276,
        "execution_millis": 8,
        "deepnote_to_be_reexecuted": false,
        "cell_id": "0989ed0d1f274316a2f45a0835e006f6",
        "deepnote_cell_type": "code"
      },
      "outputs": [
        {
          "name": "stdout",
          "text": "There are 250 training samples with 8 features and 250 associated classification labels\nThere are 63 validation samples with 8 features and 63 associated classification labels\nThere are 79 test samples with 8 features and 79 associated classification labels\n",
          "output_type": "stream"
        }
      ],
      "execution_count": 7
    },
    {
      "cell_type": "markdown",
      "source": "### Normalizing Data\n\nLet's not forget to normalize the data! We'll use sklearn's StandardScaler normalization like we did before to normalize the training **and** validation/data.",
      "metadata": {
        "id": "De_EJnYKgz_6",
        "colab_type": "text",
        "cell_id": "7cab6eefe8de4e2b91c3216bc346f022",
        "deepnote_cell_type": "markdown"
      }
    },
    {
      "cell_type": "code",
      "source": "from sklearn.preprocessing import StandardScaler\n\nscaler = StandardScaler()\n\nfor i in list(X_train):\n    feature_data_train = X_train[i].values.reshape(-1, 1)\n    scaler.fit(feature_data_train)\n    X_train[i] = scaler.transform(feature_data_train)\n\nfor j in list(X_test):\n    feature_data_test = X_test[j].values.reshape(-1, 1)\n    scaler.fit(feature_data_test)\n    X_test[j] = scaler.transform(feature_data_test)\n    \nfor k in list(X_val):\n    feature_data_val = X_val[k].values.reshape(-1, 1)\n    scaler.fit(feature_data_val)\n    X_val[k] = scaler.transform(feature_data_val)",
      "metadata": {
        "id": "6PD6-ibriBJO",
        "colab": {},
        "colab_type": "code",
        "source_hash": "844e8ff7",
        "execution_start": 1625523200605,
        "execution_millis": 3,
        "deepnote_to_be_reexecuted": false,
        "cell_id": "870d64baa7504312b6c850884ce08484",
        "deepnote_cell_type": "code"
      },
      "outputs": [],
      "execution_count": 8
    },
    {
      "cell_type": "markdown",
      "source": "### Writing your kNN\n\nNow for the fun part! Fill in the 3 following methods, euclidean_dist(), predict(), and knn().\n\nThe predict method that we'll make below needs to: \n1. Compute the euclidean distance between the “new” observation and all the data points in the training set. \n2. Assign the corresponding label to the observation\n3. Select the k nearest ones and perform a \"majority vote\"",
      "metadata": {
        "id": "hnv61aiiitxU",
        "colab_type": "text",
        "cell_id": "ff8dd00e45ed4abcb72c17c929d61261",
        "deepnote_cell_type": "markdown"
      }
    },
    {
      "cell_type": "code",
      "source": "# Euclidean distance function from tutorial\ndef euclidean_dist(datum1, datum2):\n    inner_val = 0.0\n    \n    for g in range(datum1.shape[0]):\n        inner_val += (datum1[g]- datum2[g]) ** 2\n    \n    distance = np.sqrt(inner_val)\n    return(distance)",
      "metadata": {
        "id": "xXkIw6zN3lVb",
        "colab": {},
        "colab_type": "code",
        "source_hash": "9c4668ff",
        "execution_start": 1625523202603,
        "execution_millis": 4,
        "deepnote_to_be_reexecuted": false,
        "cell_id": "6f9d93dcf12a409695790b4db172e40e",
        "deepnote_cell_type": "code"
      },
      "outputs": [],
      "execution_count": 9
    },
    {
      "cell_type": "code",
      "source": "from collections import Counter\n\ndef predict(x_training, y_training, x_test_sample, k):\n    \n    # Create list for distances and targets\n    distances = []\n    targets = []\n\n    # YOUR CODE HERE",
      "metadata": {
        "id": "FqJkm_ytjFgM",
        "colab": {},
        "colab_type": "code",
        "source_hash": "5b9fbd70",
        "execution_start": 1625523203151,
        "execution_millis": 1,
        "deepnote_to_be_reexecuted": false,
        "cell_id": "ab8b720357a04255850da3df613bc6b5",
        "deepnote_cell_type": "code"
      },
      "outputs": [],
      "execution_count": 10
    },
    {
      "cell_type": "code",
      "source": "def knn(x_training, y_training, x_testing, k):\n    \n    # YOUR CODE HERE",
      "metadata": {
        "id": "BguZLcRa3lVh",
        "colab": {},
        "colab_type": "code",
        "source_hash": "320c8ae7",
        "execution_start": 1625523203819,
        "execution_millis": 5,
        "deepnote_to_be_reexecuted": false,
        "cell_id": "09eb2c5ced6943ec8ea6f7adb4893d06",
        "deepnote_cell_type": "code"
      },
      "outputs": [
        {
          "output_type": "error",
          "ename": "SyntaxError",
          "evalue": "unexpected EOF while parsing (<ipython-input-11-c6f59b9622e0>, line 3)",
          "traceback": [
            "\u001b[0;36m  File \u001b[0;32m\"<ipython-input-11-c6f59b9622e0>\"\u001b[0;36m, line \u001b[0;32m3\u001b[0m\n\u001b[0;31m    # YOUR CODE HERE\u001b[0m\n\u001b[0m                    ^\u001b[0m\n\u001b[0;31mSyntaxError\u001b[0m\u001b[0;31m:\u001b[0m unexpected EOF while parsing\n"
          ]
        }
      ],
      "execution_count": 11
    },
    {
      "cell_type": "markdown",
      "source": "When done, test your code by running the methods here!",
      "metadata": {
        "id": "4uhQZPIpjdo9",
        "colab_type": "text",
        "cell_id": "ff2e313e020a4bdb948fddec2d7e7518",
        "deepnote_cell_type": "markdown"
      }
    },
    {
      "cell_type": "code",
      "source": "from sklearn.metrics import accuracy_score\nimport time\n\nstart = time.time()\npredictions_slow = knn(X_train, y_train, X_val, k=5)\n\nprint('Took {} seconds'.format(time.time() - start))\nprint(\"Validation Accuracy is \", accuracy_score(y_val,predictions_slow)*100)",
      "metadata": {
        "id": "AHRJXVr7jcao",
        "colab": {},
        "colab_type": "code",
        "source_hash": "411446fa",
        "execution_start": 1625523206429,
        "execution_millis": 12,
        "deepnote_to_be_reexecuted": false,
        "cell_id": "4cb9608400d9421cbbf60d70f6cf6d09",
        "deepnote_cell_type": "code"
      },
      "outputs": [
        {
          "output_type": "error",
          "ename": "NameError",
          "evalue": "name 'knn' is not defined",
          "traceback": [
            "\u001b[0;31m---------------------------------------------------------------------------\u001b[0m",
            "\u001b[0;31mNameError\u001b[0m                                 Traceback (most recent call last)",
            "\u001b[0;32m<ipython-input-12-c8ce05bea58f>\u001b[0m in \u001b[0;36m<module>\u001b[0;34m\u001b[0m\n\u001b[1;32m      3\u001b[0m \u001b[0;34m\u001b[0m\u001b[0m\n\u001b[1;32m      4\u001b[0m \u001b[0mstart\u001b[0m \u001b[0;34m=\u001b[0m \u001b[0mtime\u001b[0m\u001b[0;34m.\u001b[0m\u001b[0mtime\u001b[0m\u001b[0;34m(\u001b[0m\u001b[0;34m)\u001b[0m\u001b[0;34m\u001b[0m\u001b[0;34m\u001b[0m\u001b[0m\n\u001b[0;32m----> 5\u001b[0;31m \u001b[0mpredictions_slow\u001b[0m \u001b[0;34m=\u001b[0m \u001b[0mknn\u001b[0m\u001b[0;34m(\u001b[0m\u001b[0mX_train\u001b[0m\u001b[0;34m,\u001b[0m \u001b[0my_train\u001b[0m\u001b[0;34m,\u001b[0m \u001b[0mX_val\u001b[0m\u001b[0;34m,\u001b[0m \u001b[0mk\u001b[0m\u001b[0;34m=\u001b[0m\u001b[0;36m5\u001b[0m\u001b[0;34m)\u001b[0m\u001b[0;34m\u001b[0m\u001b[0;34m\u001b[0m\u001b[0m\n\u001b[0m\u001b[1;32m      6\u001b[0m \u001b[0;34m\u001b[0m\u001b[0m\n\u001b[1;32m      7\u001b[0m \u001b[0mprint\u001b[0m\u001b[0;34m(\u001b[0m\u001b[0;34m'Took {} seconds'\u001b[0m\u001b[0;34m.\u001b[0m\u001b[0mformat\u001b[0m\u001b[0;34m(\u001b[0m\u001b[0mtime\u001b[0m\u001b[0;34m.\u001b[0m\u001b[0mtime\u001b[0m\u001b[0;34m(\u001b[0m\u001b[0;34m)\u001b[0m \u001b[0;34m-\u001b[0m \u001b[0mstart\u001b[0m\u001b[0;34m)\u001b[0m\u001b[0;34m)\u001b[0m\u001b[0;34m\u001b[0m\u001b[0;34m\u001b[0m\u001b[0m\n",
            "\u001b[0;31mNameError\u001b[0m: name 'knn' is not defined"
          ]
        }
      ],
      "execution_count": 12
    },
    {
      "cell_type": "markdown",
      "source": "Check sklearn's predictions on validation data from the tutorial notebook and make sure they match yours. Sklearn is faster, but you should get the same answers.",
      "metadata": {
        "id": "2a51RcbJ3lVq",
        "colab_type": "text",
        "cell_id": "ccaca00b61a64786a5d3ac83d0dffb2f",
        "deepnote_cell_type": "markdown"
      }
    },
    {
      "cell_type": "markdown",
      "source": "<a style='text-decoration:none;line-height:16px;display:flex;color:#5B5B62;padding:10px;justify-content:end;' href='https://deepnote.com?utm_source=created-in-deepnote-cell&projectId=8fbdb743-532f-4f17-9855-e45d3de32274' target=\"_blank\">\n<img alt='Created in deepnote.com' style='display:inline;max-height:16px;margin:0px;margin-right:7.5px;' src='data:image/svg+xml;base64,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' > </img>\nCreated in <span style='font-weight:600;margin-left:4px;'>Deepnote</span></a>",
      "metadata": {
        "created_in_deepnote_cell": true,
        "deepnote_cell_type": "markdown"
      }
    }
  ],
  "nbformat": 4,
  "nbformat_minor": 0,
  "metadata": {
    "colab": {
      "name": "NearestNeighbors_Exercises",
      "provenance": [],
      "collapsed_sections": []
    },
    "deepnote": {},
    "kernelspec": {
      "name": "python3",
      "language": "python",
      "display_name": "Python 3"
    },
    "language_info": {
      "name": "python",
      "version": "3.7.3",
      "mimetype": "text/x-python",
      "file_extension": ".py",
      "pygments_lexer": "ipython3",
      "codemirror_mode": {
        "name": "ipython",
        "version": 3
      },
      "nbconvert_exporter": "python"
    },
    "deepnote_notebook_id": "7e471f4c50324932881bfdf53b3150e1",
    "deepnote_execution_queue": []
  }
}