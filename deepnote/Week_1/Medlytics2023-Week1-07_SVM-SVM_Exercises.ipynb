{
  "cells": [
    {
      "cell_type": "markdown",
      "source": "# SVM Exercises",
      "metadata": {
        "id": "-UimMCmGe19F",
        "colab_type": "text",
        "cell_id": "37a4241cecca4fd9aee8da99acf982a6",
        "deepnote_cell_type": "markdown"
      }
    },
    {
      "cell_type": "code",
      "source": "import numpy as np\nimport pandas as pd\nfrom sklearn.model_selection import train_test_split\nimport matplotlib.pyplot as plt\n\nfrom sklearn import svm\nfrom sklearn.metrics import accuracy_score\nfrom sklearn.svm import SVC\nfrom sklearn import metrics",
      "metadata": {
        "id": "kedW02LgKjVL",
        "colab": {},
        "colab_type": "code",
        "source_hash": null,
        "execution_start": 1625523236878,
        "execution_millis": 1359,
        "deepnote_to_be_reexecuted": false,
        "cell_id": "65bfbd3a1e6b440fa2f071a664a543d9",
        "deepnote_cell_type": "code"
      },
      "outputs": [],
      "execution_count": null
    },
    {
      "cell_type": "markdown",
      "source": "Load Pima diabetes dataset",
      "metadata": {
        "id": "RxeCyhoaTAQC",
        "colab_type": "text",
        "cell_id": "c60f9c30af05420ca38dc2bfcd97f242",
        "deepnote_cell_type": "markdown"
      }
    },
    {
      "cell_type": "code",
      "source": "url = \"https://raw.githubusercontent.com/BeaverWorksMedlytics2020/Data_Public/master/NotebookExampleData/Week1/diabetes.csv\"\nnames = ['preg', 'plas', 'pres', 'skin', 'test', 'mass', 'pedi', 'age', 'class']\n\n# YOUR CODE HERE",
      "metadata": {
        "id": "Ydh9gmDkMGmu",
        "colab": {},
        "colab_type": "code",
        "source_hash": null,
        "execution_start": 1625523238751,
        "execution_millis": 0,
        "deepnote_to_be_reexecuted": false,
        "cell_id": "6954c1937fb5438d8ba70ed0f49e6c05",
        "deepnote_cell_type": "code"
      },
      "outputs": [],
      "execution_count": null
    },
    {
      "cell_type": "markdown",
      "source": "Split data into training, colidation, and test sets with a test size of 25%",
      "metadata": {
        "id": "1O5s3G_ncGmw",
        "colab_type": "text",
        "cell_id": "7a1be8d912464f539863939589a4a1fe",
        "deepnote_cell_type": "markdown"
      }
    },
    {
      "cell_type": "code",
      "source": "# YOUR CODE HERE",
      "metadata": {
        "id": "LfmYBpMicLdi",
        "colab": {},
        "colab_type": "code",
        "cell_id": "49110e61da0b4efd9eb7e1ce1f991b50",
        "deepnote_cell_type": "code"
      },
      "outputs": [],
      "execution_count": null
    },
    {
      "cell_type": "markdown",
      "source": "Create a model with sklearn's SVC and a high gamma value (perhaps 1.0)",
      "metadata": {
        "id": "uluFKd1hTAQK",
        "colab_type": "text",
        "cell_id": "f29f6fe5961048f6890152836c53ab26",
        "deepnote_cell_type": "markdown"
      }
    },
    {
      "cell_type": "code",
      "source": "# YOUR CODE HERE",
      "metadata": {
        "id": "9rYQecrQ8yjn",
        "colab": {},
        "colab_type": "code",
        "cell_id": "dfddcfc7714848ccb360e218fc0d9d94",
        "deepnote_cell_type": "code"
      },
      "outputs": [],
      "execution_count": null
    },
    {
      "cell_type": "markdown",
      "source": "Print accuracy of training and validation data",
      "metadata": {
        "id": "qdiqjUje4ll-",
        "colab_type": "text",
        "cell_id": "f0f865db7cd64ada962048c851a7d5a4",
        "deepnote_cell_type": "markdown"
      }
    },
    {
      "cell_type": "code",
      "source": "# YOUR CODE HERE",
      "metadata": {
        "id": "O5LqepHk9S0M",
        "colab": {},
        "colab_type": "code",
        "cell_id": "331ff5d8e43e4e1cb9fc4507c20056d3",
        "deepnote_cell_type": "code"
      },
      "outputs": [],
      "execution_count": null
    },
    {
      "cell_type": "markdown",
      "source": "Create a model with sklearn's SVC and a low gamma value (perhaps .001)",
      "metadata": {
        "id": "fC7VlLtI3ZjQ",
        "colab_type": "text",
        "cell_id": "29778ce2047f49638482f2763bc501e6",
        "deepnote_cell_type": "markdown"
      }
    },
    {
      "cell_type": "code",
      "source": "# YOUR CODE HERE",
      "metadata": {
        "id": "3vVHnWuY9pFN",
        "colab": {},
        "colab_type": "code",
        "cell_id": "749207bb1a1f44dda2ba6f78615c55b7",
        "deepnote_cell_type": "code"
      },
      "outputs": [],
      "execution_count": null
    },
    {
      "cell_type": "markdown",
      "source": "Print accuracy of training and validation data",
      "metadata": {
        "id": "JQB-U50H4mIx",
        "colab_type": "text",
        "cell_id": "08b2f0b629cb4ffa91914ff80a8b7a8f",
        "deepnote_cell_type": "markdown"
      }
    },
    {
      "cell_type": "code",
      "source": "# YOUR CODE HERE",
      "metadata": {
        "id": "tr4DGB309s9a",
        "colab": {},
        "colab_type": "code",
        "cell_id": "ebd09f87a6644573b2968f63a0c1f514",
        "deepnote_cell_type": "code"
      },
      "outputs": [],
      "execution_count": null
    },
    {
      "cell_type": "markdown",
      "source": "Explain the accuracy results below. ",
      "metadata": {
        "id": "TA9xLHAEIKXY",
        "colab_type": "text",
        "cell_id": "c738871d0db748daa8e0a343f30e5daa",
        "deepnote_cell_type": "markdown"
      }
    },
    {
      "cell_type": "markdown",
      "source": "(YOUR ANSWER HERE)",
      "metadata": {
        "id": "0IKjiKigeeKp",
        "colab_type": "text",
        "cell_id": "9b0d66a86803480a95ec58037e283952",
        "deepnote_cell_type": "markdown"
      }
    },
    {
      "cell_type": "markdown",
      "source": "Print the confusion matrices for your high and low gamma models (both numeric and visualized)",
      "metadata": {
        "id": "DxF6fUTvTAQk",
        "colab_type": "text",
        "cell_id": "02a7ee14a6fd42fa9128801245b22a6d",
        "deepnote_cell_type": "markdown"
      }
    },
    {
      "cell_type": "code",
      "source": "# YOUR CODE HERE",
      "metadata": {
        "id": "zxZeR4haTAQk",
        "colab": {},
        "colab_type": "code",
        "cell_id": "13af219e196f454c9c3f661e8b7f961e",
        "deepnote_cell_type": "code"
      },
      "outputs": [],
      "execution_count": null
    },
    {
      "cell_type": "markdown",
      "source": "<a style='text-decoration:none;line-height:16px;display:flex;color:#5B5B62;padding:10px;justify-content:end;' href='https://deepnote.com?utm_source=created-in-deepnote-cell&projectId=8fbdb743-532f-4f17-9855-e45d3de32274' target=\"_blank\">\n<img alt='Created in deepnote.com' style='display:inline;max-height:16px;margin:0px;margin-right:7.5px;' src='data:image/svg+xml;base64,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' > </img>\nCreated in <span style='font-weight:600;margin-left:4px;'>Deepnote</span></a>",
      "metadata": {
        "created_in_deepnote_cell": true,
        "deepnote_cell_type": "markdown"
      }
    }
  ],
  "nbformat": 4,
  "nbformat_minor": 0,
  "metadata": {
    "colab": {
      "name": "SVM_Exercises",
      "provenance": [],
      "collapsed_sections": []
    },
    "deepnote": {},
    "kernelspec": {
      "name": "python3",
      "language": "python",
      "display_name": "Python 3"
    },
    "language_info": {
      "name": "python",
      "version": "3.7.3",
      "mimetype": "text/x-python",
      "file_extension": ".py",
      "pygments_lexer": "ipython3",
      "codemirror_mode": {
        "name": "ipython",
        "version": 3
      },
      "nbconvert_exporter": "python"
    },
    "deepnote_notebook_id": "80c01dc61ae64a5995f0e2800b38cce7",
    "deepnote_execution_queue": []
  }
}