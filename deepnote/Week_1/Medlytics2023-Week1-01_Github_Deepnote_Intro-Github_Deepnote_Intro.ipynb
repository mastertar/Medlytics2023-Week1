{
  "cells": [
    {
      "cell_type": "markdown",
      "source": "# Getting Comfortable with Deepnote\n---\n\nDeepnote is an free online Python notebook IDE that runs on a CPU or GPU in the cloud. You can log in with either a Github account or a Google account. During Medlytics 2023, we will be logging in with Github accounts so that we can commit code edits directly to our repositories.",
      "metadata": {
        "id": "3LqQndJfqd2X",
        "colab_type": "text",
        "cell_id": "c2441138aaaa4563abc6832fe509b01c",
        "deepnote_cell_type": "markdown"
      }
    },
    {
      "cell_type": "markdown",
      "source": "Deepnote Notebooks are functionally very similar to Jupyter Notebooks (with a few exceptions for uploading/downloading to/from local files) while also having similar funcitonalities to Google Docs where you can share notebooks to collaborate with group members in real time and comment on blocks of code/text.\n<br></br>\n\nHere are some basics for working in Deepnote:\n\n* Start typing **Keyboard shortcuts** in the command palette to quickly look up keyboard shortcuts in Deepnote. Here are some examples of default shortcuts in Deepnote:\n  * run current cell and move cursor to next cell: shift + enter\n  * run current cell: Ctrl + Enter\n  * execute all cells: Ctrl + Shift + Enter\n  * stop execution: Ctrl + Shift + C\n  * delete cell: Ctrl + Shift + Backspace\n  * move cell up: Alt + Shift + Up\n  * move cell down: Alt + Shift + Down\n  * duplicate cell: Ctrl + Shift + D\n  * insert code cell above: Ctrl + J\n  * insert code cell below: Ctrl + K\n  * undo: Ctrl + Z\n  * redo: Ctrl + Y \n* Download your current notebook to your local drive using \"Download project as ZIP\" in the dropdown menu in the top left",
      "metadata": {
        "id": "M_QiCa_XYu2o",
        "colab_type": "text",
        "cell_id": "3785e2794f584678ba87f1e4c529a10c",
        "deepnote_cell_type": "markdown"
      }
    },
    {
      "cell_type": "markdown",
      "source": "# Packages\n---\n\nDeepnote already has most common packages installed and ready for import, but if it doesn't have the particular package you need, you can install it using `!pip install mypackage` from inside a notebook cell.",
      "metadata": {
        "id": "PEKoaiRXqd4f",
        "colab_type": "text",
        "cell_id": "b6e84509fcf84bb4a19a550133508270",
        "deepnote_cell_type": "markdown"
      }
    },
    {
      "cell_type": "markdown",
      "source": "## EXERCISE\n\nTry installing tensorflow in the cell below. It should output \"Requirement already satisfied\", meaning that the package is already installed on the remote cpu you are using. ",
      "metadata": {
        "id": "J9dtrPy1ZIKL",
        "colab_type": "text",
        "cell_id": "74d5717fc06b4093a3a38f3b5416de1d",
        "deepnote_cell_type": "markdown"
      }
    },
    {
      "cell_type": "code",
      "source": "# YOUR CODE HERE",
      "metadata": {
        "id": "tKhUUZ81qjN7",
        "colab": {},
        "colab_type": "code",
        "source_hash": "1015dca",
        "execution_start": 1625361606431,
        "execution_millis": 1,
        "deepnote_to_be_reexecuted": false,
        "cell_id": "85824ce1aede4971bd95e00394eca52d",
        "deepnote_cell_type": "code"
      },
      "outputs": [],
      "execution_count": null
    },
    {
      "cell_type": "markdown",
      "source": "# Downloading/Uploading Locally in Deepnote\n---\n\nAlthough you are running your code on a remote CPU/GPU, you can still download/upload files to/from your local drive. There are simple methods to carry out these processes in Deepnote.\n\n*Note: if you are uploading files from a url to a local variable, you can do so the same way you would outside of Deepnote (ex. pd.read_csv(url)).*",
      "metadata": {
        "id": "8CRkibIdqd8d",
        "colab_type": "text",
        "cell_id": "7a8d65ddebf5446bb8e6fa2982771d0c",
        "deepnote_cell_type": "markdown"
      }
    },
    {
      "cell_type": "markdown",
      "source": "## Uploading File(s)\n\nTo upload files to work with from Deepnote, click on the file explorer button near the top left of the page. Then hit the + to upload files, which will then show up within the file explorer. From there, you can access these files from notebooks in the directory.",
      "metadata": {
        "id": "nQeVXdYtuLiW",
        "colab_type": "text",
        "cell_id": "fb93688a7b014e21b55250141114ea57",
        "deepnote_cell_type": "markdown"
      }
    },
    {
      "cell_type": "markdown",
      "source": "## Downloading File(s)\n\nTo download files from Deepnote, click on the file explorer button near the top left of the page. Then right click on the intended file (or click on the three dots next to the file) and hit download. This will download that file to your local drive.",
      "metadata": {
        "id": "t-SzIdjWuPVv",
        "colab_type": "text",
        "cell_id": "a05cbf03e362410999d50e00386e9f84",
        "deepnote_cell_type": "markdown"
      }
    },
    {
      "cell_type": "markdown",
      "source": "# Troubleshooting Deepnote\n---\n\n* If you do you not see the files in your Github repository, then click on the Github logo to the left in order to link your repository. You should then be able to access the files in your repo from the file explorer.\n* Google is your best friend! Learning how to effectively and efficiently use google for coding queries is a vital skill.\n* You can always ask an instructor for help.",
      "metadata": {
        "id": "mYq_DUYRq5Kn",
        "colab_type": "text",
        "cell_id": "22b699f1e78d4cb1a3d730a509fb8b86",
        "deepnote_cell_type": "markdown"
      }
    },
    {
      "cell_type": "markdown",
      "source": "# Saving Your Progress\n---\n\nSince we'll be pushing out notebooks and other material in public class repositories on **Github**, you will have to make your own **fork** of them each week. This way you'll be able to fetch any changes we make to the class repo while still being able to push edits to your own workspace. Deepnote automatically saves your work and allows you to directly push your Notebook edits/commits to your personal Github repository (the version that you fork from the master repo). Feel free to reference back to this notebook any time throughout the course.",
      "metadata": {
        "id": "UVQHrYeRap-i",
        "colab_type": "text",
        "cell_id": "9cb842f7b9a34c1a9908586a18866498",
        "deepnote_cell_type": "markdown"
      }
    },
    {
      "cell_type": "markdown",
      "source": "# Medlytics Github 101\n---",
      "metadata": {
        "id": "psHPVWnTap-j",
        "colab_type": "text",
        "cell_id": "cb6f1c763a364c48b22227155c1d46f3",
        "deepnote_cell_type": "markdown"
      }
    },
    {
      "cell_type": "markdown",
      "source": "## 1. Setting up your fork 🍴\n\n*You only have to complete this first section once (at the beginning of each week)*\n\n### 1a. Making the fork \nJust head over to the **public class'** GitHub repository for that week and click the \"Fork\" button in the upper right corner. Fork to your personal Github account.\n\n![](https://raw.githubusercontent.com/Medlytics2023/Week1/master/Images/howtofork.png)\n\nAfter a few seconds you should be redirected to your fork, the top of your page should look something like this:\n\n![](https://raw.githubusercontent.com/Medlytics2023/Week1/master/Images/forkedimage.PNG)\n\n### 1b. Using an upstream\n\nIn order to keep your fork up to date with the class repository when we push new notebooks and files each day, you'll need to use the \"Fetch upstream\" button and the subsequent \"Fetch and merge\" button that you see when looking at the home page of your forked repository. This will pull any new notebooks or files we push to the class master repository, to your personal forked repository. This will be necessary mainly when we upload notebook solutions after you have completed the exercises.\n\n![](https://raw.githubusercontent.com/Medlytics2021/Week1Public/master/Images/fetchupstream.png)",
      "metadata": {
        "id": "BaQrIHdx07W0",
        "colab_type": "text",
        "cell_id": "301e8d95c8ed4591a3dbe42fe1b4ef99",
        "deepnote_cell_type": "markdown"
      }
    },
    {
      "cell_type": "markdown",
      "source": "# Working on Notebooks in Deepnote\n---\nTo work on your notebooks in Deepnote, first go to the Deepnote dashboard (sign in with Github): https://deepnote.com/dashboard. Then click \"New project\". Then select \"Import from Github\". You will see an option to link a Github repository. Go to your personal forked Github repository and copy the URL. Paste this into the link field in Deepnote and select \"Link Github Repository\". You may see a prompt to install Deepnote to your Github account - follow these steps and then return to Deepnote.\n\n*Note: Make sure you link **your personal forked repository** and not the class's master repository, since you won't have permissions to push or save changes to the public class repository*\n\nYou should now see the below screen, with all the notebooks and files for the class shown on the left. You can navigate from notebook to notebook using this file explorer. Once a notebook is open, you can simply edit and run the cells as described above.\n\n**Use the \"Notebook Live Status\" spreadsheet to indicate to the instructors what your group's status is regarding working on your notebook. Feel free to also ask us for help directly (through Discord or Zoom).**\n\n![](https://raw.githubusercontent.com/Medlytics2021/Week1Public/master/Images/deepnote.PNG)",
      "metadata": {
        "id": "IUGQPJ9Oap-k",
        "colab_type": "text",
        "cell_id": "acc4a913746943ae8c3ad6a3b03e3aa7",
        "deepnote_cell_type": "markdown"
      }
    },
    {
      "cell_type": "markdown",
      "source": "# Collaborating on Notebooks in Deepnote\n---\nThroughout the Medlytics class, you will be working in groups on different projects (the exercises notebooks as well as the challenge projects). These groups will be roughly 3 or 4 members. Deepnote has a fully synchronous feature, so multiple collaborators can work on the same notebook at once. One person in your group must share their notebook with the others so that they can edit it and work on the same code. To share the notebook with others, follow the below steps.\n\n#### 1. Click the Share button (has a globe next to it) at the top right of your screen in Deepnote. Under \"Public access\", set the drop-down field to \"Edit\".\n\n![](https://raw.githubusercontent.com/Medlytics2021/Week1Public/master/Images/share.PNG)\n\n#### 2. In the file explorer menu to the left, click the three dots next to the notebook that you are working on. Click \"Share\". The link to share the notebook should have been copied to your clipboard.\n\n#### 3. Send the link to your group members so that they can join you in editing the notebooks for that day (via Discord or Zoom chat)\n\n#### 4. **Use the notebook submission Google Form to submit information about your group as well as the notebook link you are working at. This is so that we instructors can help you by hopping onto your notebook in the event that your group is stuck.**",
      "metadata": {
        "id": "IUGQPJ9Oap-k",
        "colab_type": "text",
        "cell_id": "226da7b45ed246888eb5b8b46b47cfb3",
        "deepnote_cell_type": "markdown"
      }
    },
    {
      "cell_type": "markdown",
      "source": "# Committing/Pushing to Github from Deepnote\n---\nOnce you've edited your notebooks in Deepnote, you'll need to push those updates to your personal forked repository. Then you you can fetch any changes from upstream if necessary.\n\nFirst click on the Terminal menu on the left of the Deepnote environment. It is the fifth button down.\n\n![](https://raw.githubusercontent.com/Medlytics2021/Week1Public/master/Images/terminal.png)\n\nNow click on the + sign to open a new terminal (also known as a command prompt). Once the terminal is open, you'll need to change into the directory of your repository. Run the below command.\n\n```shell\nls\n```\n\nNow you should see the contents of the root directory. From here, run the below command.\n\n```shell\ncd Week1Public\n```\n\nIf it is Week 2 or Week 3, you'll need to substitute in the appropriate number to switch to the correct directory in the terminal.\n\nOnce you are in the directory of your personal forked repository, run the following commands in sequence:\n\n```shell\ngit add .\ngit commit\n```\n\nNow you should see a window where your changes to the files in your directory are listed out. Type a commit message. Now press ESC, then type :wq, then hit enter. You should have returned to the main window of the terminal.\n\nLastly, run the below command to push your changes to your personal forked repository on Github.\n\n```shell\ngit push\n```\n\nYour screen should look similar to this:\n\n![](https://raw.githubusercontent.com/Medlytics2021/Week1Public/master/Images/finishedterminal.PNG)\n\nYou can check to make sure your git push worked by going to your forked Github repository and making sure your changes (and the commit/commit message) show up there. If the push failed or something went wrong in the terminal, don't worry! Deepnote saves your changes automatically, so you won't lose your work. Just ask an instructor for help with pushing those changes to Github.",
      "metadata": {
        "id": "IUGQPJ9Oap-k",
        "colab_type": "text",
        "cell_id": "cc2309a4b89b443898a762a8d847061e",
        "deepnote_cell_type": "markdown"
      }
    },
    {
      "cell_type": "markdown",
      "source": "<a style='text-decoration:none;line-height:16px;display:flex;color:#5B5B62;padding:10px;justify-content:end;' href='https://deepnote.com?utm_source=created-in-deepnote-cell&projectId=8fbdb743-532f-4f17-9855-e45d3de32274' target=\"_blank\">\n<img alt='Created in deepnote.com' style='display:inline;max-height:16px;margin:0px;margin-right:7.5px;' src='data:image/svg+xml;base64,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' > </img>\nCreated in <span style='font-weight:600;margin-left:4px;'>Deepnote</span></a>",
      "metadata": {
        "created_in_deepnote_cell": true,
        "deepnote_cell_type": "markdown"
      }
    }
  ],
  "nbformat": 4,
  "nbformat_minor": 0,
  "metadata": {
    "colab": {
      "name": "Colab_Github_Intro.ipynb",
      "provenance": [],
      "collapsed_sections": []
    },
    "deepnote": {},
    "kernelspec": {
      "name": "python3",
      "language": "python",
      "display_name": "Python 3"
    },
    "language_info": {
      "name": "python",
      "version": "3.7.3",
      "mimetype": "text/x-python",
      "file_extension": ".py",
      "pygments_lexer": "ipython3",
      "codemirror_mode": {
        "name": "ipython",
        "version": 3
      },
      "nbconvert_exporter": "python"
    },
    "deepnote_notebook_id": "a3ad9bb402754ea0b3cf41540e999d80",
    "deepnote_execution_queue": []
  }
}